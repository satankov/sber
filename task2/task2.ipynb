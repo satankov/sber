{
 "cells": [
  {
   "cell_type": "markdown",
   "metadata": {},
   "source": [
    "## Credit Limits Increase\n",
    "#### Этап 1\n",
    "Имеется $N$ клиентов. Для каждого клиента $i, i=1..N$ имеется его кредитный лимит $L_i(t)$ и его долг $D_i(t)$ в текущий период $t = 0..M, M$ - количество наблюдений. Например, наблюдения производятся раз в месяц, за год это 12 месяцев (12 наблюдений). <br><br>\n",
    "\n",
    "Введем функцию неизрасходованной доли по лимиту (Non-used Share of Limit - **nsL**): <br>\n",
    "$ nsL(t) = (L(t) - D(t)/L(t)$ <br>\n",
    "Функция (пока из неизвестного нам распределения) принимает значения от 0 до 1: \n",
    "* 0, для D=L - те, кто полностью израсходовали свой лимит\n",
    "* 1, для D=0 - те, кто не пользовался кредитным лимитом.\n",
    "\n",
    "Допустим, имея данные в моменты $0..t$ мы смогли спрогнозировать нашу функцию $nsL$ в момент $t+1$, решив регрессионную задачу, например, методом наименьших квадратов.\n",
    "\n",
    "Далее мы можем перейти к следующему этапу - управлением лимитами.\n",
    "\n",
    "#### Этап 2\n",
    "Имеется $N$ клиентов. Также введем следующие величины:\n",
    "* $p(i, L, t)$ - вероятность дефолта клиента $i$ при установленном лимите $L$ в момент времени $t$;\n",
    "* $p_{max}$ - пороговая вероятность, определенная каким-то образом, контроллирующая долю дефолтных клиентов, получивших кредит;\n",
    "* $B(t)$ - (бюджет) в момент времени t, которым располагает банк, чтобы повысить лимиты по кредитам;\n",
    "* $L_{max}$ - максимальная величина лимита по данной услуге;\n",
    "\n",
    "Задача состоит в том, чтобы максимизировать использование кредита в момент T, назначив новые лимиты $L'$ с учетом некоторых ограничений. <br>\n",
    "Функицонал:\n",
    "\\begin{equation*}\n",
    "\\sum_{i=1}^N nsL_i(T) * L'(T) \\rightarrow max \n",
    "\\end{equation*}\n",
    "\n",
    "Ограничения:\n",
    "\\begin{equation*}\n",
    " \\begin{cases}\n",
    "   L_i \\leq L_i' \\leq L_{max} \\\\\n",
    "   p(i, L'(T), T) \\leq p_{max}, \\forall i \\\\\n",
    "   \\sum_{i=1}^N [ L_i'(T) - L_i(T-1) ] \\leq B(T)\n",
    " \\end{cases}\n",
    "\\end{equation*}\n",
    "\n",
    "1. Контроллирует лимиты;\n",
    "2. Контроллирует \"дефолтность\" клиентов с учетом их переопределенных лимитов;\n",
    "3. Контроллирует бюджет банка на количество и сумму повышений лимитов.\n",
    "\n",
    "Функционал и ограничения в данном виде похожи на \"задачу о рюкзаке\", способы ее решить описаны (https://habr.com/ru/post/222577/ )."
   ]
  }
 ],
 "metadata": {
  "kernelspec": {
   "display_name": "Python 3",
   "language": "python",
   "name": "python3"
  },
  "language_info": {
   "codemirror_mode": {
    "name": "ipython",
    "version": 3
   },
   "file_extension": ".py",
   "mimetype": "text/x-python",
   "name": "python",
   "nbconvert_exporter": "python",
   "pygments_lexer": "ipython3",
   "version": "3.6.8"
  },
  "toc": {
   "base_numbering": 1,
   "nav_menu": {},
   "number_sections": false,
   "sideBar": true,
   "skip_h1_title": false,
   "title_cell": "Table of Contents",
   "title_sidebar": "Contents",
   "toc_cell": false,
   "toc_position": {},
   "toc_section_display": true,
   "toc_window_display": false
  },
  "varInspector": {
   "cols": {
    "lenName": 16,
    "lenType": 16,
    "lenVar": 40
   },
   "kernels_config": {
    "python": {
     "delete_cmd_postfix": "",
     "delete_cmd_prefix": "del ",
     "library": "var_list.py",
     "varRefreshCmd": "print(var_dic_list())"
    },
    "r": {
     "delete_cmd_postfix": ") ",
     "delete_cmd_prefix": "rm(",
     "library": "var_list.r",
     "varRefreshCmd": "cat(var_dic_list()) "
    }
   },
   "types_to_exclude": [
    "module",
    "function",
    "builtin_function_or_method",
    "instance",
    "_Feature"
   ],
   "window_display": false
  }
 },
 "nbformat": 4,
 "nbformat_minor": 2
}
