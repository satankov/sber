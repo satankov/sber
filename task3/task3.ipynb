{
 "cells": [
  {
   "cell_type": "code",
   "execution_count": 42,
   "metadata": {
    "ExecuteTime": {
     "end_time": "2020-03-30T20:46:47.628761Z",
     "start_time": "2020-03-30T20:46:47.618457Z"
    }
   },
   "outputs": [],
   "source": [
    "import numpy as np\n",
    "import pandas as pd\n",
    "\n",
    "import matplotlib.pyplot as plt\n",
    "import seaborn as sns\n",
    "\n",
    "import sklearn\n",
    "from sklearn.ensemble import RandomForestClassifier\n",
    "from sklearn.preprocessing import StandardScaler\n",
    "from sklearn.model_selection import train_test_split\n",
    "from sklearn.metrics import precision_score\n",
    "\n",
    "\n",
    "\n",
    "import scipy\n",
    "from scipy import stats\n",
    "from statsmodels.stats.weightstats import *\n",
    "from statsmodels.stats.proportion import proportion_confint\n",
    "\n",
    "%matplotlib inline"
   ]
  },
  {
   "cell_type": "markdown",
   "metadata": {},
   "source": [
    "### Загрузим данные\n",
    "**(Насколько я понял)** default_0 = 0 - означает, что дефолта не случилось, а значит клиент отдал кредит (это хороший клиент), а default_0 = 1 - означает, что случился дефолт и клиент принес убытки. <br>\n",
    "Поменяем целевую переменную: (0 -> 1, 1 -> 0) и теперь 1 - отдал кредит, 0 - не отдал кредит."
   ]
  },
  {
   "cell_type": "code",
   "execution_count": 43,
   "metadata": {
    "ExecuteTime": {
     "end_time": "2020-03-30T20:46:49.675026Z",
     "start_time": "2020-03-30T20:46:49.556395Z"
    },
    "scrolled": true
   },
   "outputs": [
    {
     "data": {
      "text/html": [
       "<div>\n",
       "<style scoped>\n",
       "    .dataframe tbody tr th:only-of-type {\n",
       "        vertical-align: middle;\n",
       "    }\n",
       "\n",
       "    .dataframe tbody tr th {\n",
       "        vertical-align: top;\n",
       "    }\n",
       "\n",
       "    .dataframe thead th {\n",
       "        text-align: right;\n",
       "    }\n",
       "</style>\n",
       "<table border=\"1\" class=\"dataframe\">\n",
       "  <thead>\n",
       "    <tr style=\"text-align: right;\">\n",
       "      <th></th>\n",
       "      <th>ID</th>\n",
       "      <th>LIMIT_BAL</th>\n",
       "      <th>SEX</th>\n",
       "      <th>EDUCATION</th>\n",
       "      <th>MARRIAGE</th>\n",
       "      <th>AGE</th>\n",
       "      <th>PAY_1</th>\n",
       "      <th>PAY_2</th>\n",
       "      <th>PAY_3</th>\n",
       "      <th>PAY_4</th>\n",
       "      <th>...</th>\n",
       "      <th>BILL_AMT4</th>\n",
       "      <th>BILL_AMT5</th>\n",
       "      <th>BILL_AMT6</th>\n",
       "      <th>PAY_AMT1</th>\n",
       "      <th>PAY_AMT2</th>\n",
       "      <th>PAY_AMT3</th>\n",
       "      <th>PAY_AMT4</th>\n",
       "      <th>PAY_AMT5</th>\n",
       "      <th>PAY_AMT6</th>\n",
       "      <th>default_0</th>\n",
       "    </tr>\n",
       "  </thead>\n",
       "  <tbody>\n",
       "    <tr>\n",
       "      <th>19312</th>\n",
       "      <td>23995</td>\n",
       "      <td>100000.0</td>\n",
       "      <td>1</td>\n",
       "      <td>1</td>\n",
       "      <td>2</td>\n",
       "      <td>38</td>\n",
       "      <td>0</td>\n",
       "      <td>-1</td>\n",
       "      <td>-1</td>\n",
       "      <td>0</td>\n",
       "      <td>...</td>\n",
       "      <td>70626.0</td>\n",
       "      <td>69473.0</td>\n",
       "      <td>55004.0</td>\n",
       "      <td>2000.0</td>\n",
       "      <td>111784.0</td>\n",
       "      <td>4000.0</td>\n",
       "      <td>3000.0</td>\n",
       "      <td>2000.0</td>\n",
       "      <td>2000.0</td>\n",
       "      <td>1</td>\n",
       "    </tr>\n",
       "    <tr>\n",
       "      <th>19313</th>\n",
       "      <td>23997</td>\n",
       "      <td>150000.0</td>\n",
       "      <td>1</td>\n",
       "      <td>3</td>\n",
       "      <td>2</td>\n",
       "      <td>43</td>\n",
       "      <td>-1</td>\n",
       "      <td>-1</td>\n",
       "      <td>-1</td>\n",
       "      <td>-1</td>\n",
       "      <td>...</td>\n",
       "      <td>8979.0</td>\n",
       "      <td>5190.0</td>\n",
       "      <td>0.0</td>\n",
       "      <td>1837.0</td>\n",
       "      <td>3526.0</td>\n",
       "      <td>8998.0</td>\n",
       "      <td>129.0</td>\n",
       "      <td>0.0</td>\n",
       "      <td>0.0</td>\n",
       "      <td>1</td>\n",
       "    </tr>\n",
       "    <tr>\n",
       "      <th>19314</th>\n",
       "      <td>23998</td>\n",
       "      <td>30000.0</td>\n",
       "      <td>1</td>\n",
       "      <td>2</td>\n",
       "      <td>2</td>\n",
       "      <td>37</td>\n",
       "      <td>4</td>\n",
       "      <td>3</td>\n",
       "      <td>2</td>\n",
       "      <td>-1</td>\n",
       "      <td>...</td>\n",
       "      <td>20878.0</td>\n",
       "      <td>20582.0</td>\n",
       "      <td>19357.0</td>\n",
       "      <td>0.0</td>\n",
       "      <td>0.0</td>\n",
       "      <td>22000.0</td>\n",
       "      <td>4200.0</td>\n",
       "      <td>2000.0</td>\n",
       "      <td>3100.0</td>\n",
       "      <td>0</td>\n",
       "    </tr>\n",
       "    <tr>\n",
       "      <th>19315</th>\n",
       "      <td>23999</td>\n",
       "      <td>80000.0</td>\n",
       "      <td>1</td>\n",
       "      <td>3</td>\n",
       "      <td>1</td>\n",
       "      <td>41</td>\n",
       "      <td>1</td>\n",
       "      <td>-1</td>\n",
       "      <td>0</td>\n",
       "      <td>0</td>\n",
       "      <td>...</td>\n",
       "      <td>52774.0</td>\n",
       "      <td>11855.0</td>\n",
       "      <td>48944.0</td>\n",
       "      <td>85900.0</td>\n",
       "      <td>3409.0</td>\n",
       "      <td>1178.0</td>\n",
       "      <td>1926.0</td>\n",
       "      <td>52964.0</td>\n",
       "      <td>1804.0</td>\n",
       "      <td>0</td>\n",
       "    </tr>\n",
       "    <tr>\n",
       "      <th>19316</th>\n",
       "      <td>24000</td>\n",
       "      <td>50000.0</td>\n",
       "      <td>1</td>\n",
       "      <td>2</td>\n",
       "      <td>1</td>\n",
       "      <td>46</td>\n",
       "      <td>0</td>\n",
       "      <td>0</td>\n",
       "      <td>0</td>\n",
       "      <td>0</td>\n",
       "      <td>...</td>\n",
       "      <td>36535.0</td>\n",
       "      <td>32428.0</td>\n",
       "      <td>15313.0</td>\n",
       "      <td>2078.0</td>\n",
       "      <td>1800.0</td>\n",
       "      <td>1430.0</td>\n",
       "      <td>1000.0</td>\n",
       "      <td>1000.0</td>\n",
       "      <td>1000.0</td>\n",
       "      <td>0</td>\n",
       "    </tr>\n",
       "  </tbody>\n",
       "</table>\n",
       "<p>5 rows × 25 columns</p>\n",
       "</div>"
      ],
      "text/plain": [
       "          ID  LIMIT_BAL  SEX  EDUCATION  MARRIAGE  AGE  PAY_1  PAY_2  PAY_3  \\\n",
       "19312  23995   100000.0    1          1         2   38      0     -1     -1   \n",
       "19313  23997   150000.0    1          3         2   43     -1     -1     -1   \n",
       "19314  23998    30000.0    1          2         2   37      4      3      2   \n",
       "19315  23999    80000.0    1          3         1   41      1     -1      0   \n",
       "19316  24000    50000.0    1          2         1   46      0      0      0   \n",
       "\n",
       "       PAY_4  ...  BILL_AMT4  BILL_AMT5  BILL_AMT6  PAY_AMT1  PAY_AMT2  \\\n",
       "19312      0  ...    70626.0    69473.0    55004.0    2000.0  111784.0   \n",
       "19313     -1  ...     8979.0     5190.0        0.0    1837.0    3526.0   \n",
       "19314     -1  ...    20878.0    20582.0    19357.0       0.0       0.0   \n",
       "19315      0  ...    52774.0    11855.0    48944.0   85900.0    3409.0   \n",
       "19316      0  ...    36535.0    32428.0    15313.0    2078.0    1800.0   \n",
       "\n",
       "       PAY_AMT3  PAY_AMT4  PAY_AMT5  PAY_AMT6  default_0  \n",
       "19312    4000.0    3000.0    2000.0    2000.0          1  \n",
       "19313    8998.0     129.0       0.0       0.0          1  \n",
       "19314   22000.0    4200.0    2000.0    3100.0          0  \n",
       "19315    1178.0    1926.0   52964.0    1804.0          0  \n",
       "19316    1430.0    1000.0    1000.0    1000.0          0  \n",
       "\n",
       "[5 rows x 25 columns]"
      ]
     },
     "execution_count": 43,
     "metadata": {},
     "output_type": "execute_result"
    }
   ],
   "source": [
    "dev = pd.read_csv('dev.csv', sep=';')\n",
    "dev.dropna(inplace=True)\n",
    "# dev = dev.reindex(sorted(dev.columns), axis=1)\n",
    "dev['default_0'] = dev['default_0'].map({0: 1, 1: 0}) \n",
    "dev.tail()"
   ]
  },
  {
   "cell_type": "markdown",
   "metadata": {},
   "source": [
    "### Смотрим соотношения классов"
   ]
  },
  {
   "cell_type": "code",
   "execution_count": 44,
   "metadata": {
    "ExecuteTime": {
     "end_time": "2020-03-30T20:46:52.164367Z",
     "start_time": "2020-03-30T20:46:52.153917Z"
    }
   },
   "outputs": [
    {
     "data": {
      "text/plain": [
       "1    15068\n",
       "0     4249\n",
       "Name: default_0, dtype: int64"
      ]
     },
     "execution_count": 44,
     "metadata": {},
     "output_type": "execute_result"
    }
   ],
   "source": [
    "dev['default_0'].value_counts()"
   ]
  },
  {
   "cell_type": "markdown",
   "metadata": {},
   "source": [
    "## Основная идея\n",
    "Предположим, что в Банке имеется лишь та модель, которую я сделал ниже. <br><br>\n",
    "Мы имеем данные (таблица dev) о клиентах. Чтобы оценить качество нашей модели, предлагаю данные dev разбить на обучающую и тестовую выборки в соотношении 80/20 (как и данные в задании имеют соотношение dev/valid - 80/20). <br><br>\n",
    "Я выбрал метрику точности (Precision) потому как у нас большой штраф, если клиенту выдали кредит и случился дефолт (штраф 5000 у.е.) нежели если мы не выдали \"хорошему\" клиенту кредит (штраф 0 у.е.)."
   ]
  },
  {
   "cell_type": "code",
   "execution_count": 45,
   "metadata": {
    "ExecuteTime": {
     "end_time": "2020-03-30T20:47:41.644134Z",
     "start_time": "2020-03-30T20:47:41.639371Z"
    }
   },
   "outputs": [],
   "source": [
    "# тут делим на категориальные и числовые признаки\n",
    "\n",
    "cols_prep = ['BILL_AMT1', 'BILL_AMT2', 'BILL_AMT3', 'BILL_AMT4', 'BILL_AMT5','BILL_AMT6',\n",
    "             'LIMIT_BAL','PAY_AMT1', 'PAY_AMT2','PAY_AMT3', 'PAY_AMT4', 'PAY_AMT5', 'PAY_AMT6','AGE']\n",
    "cols_no_prep = ['EDUCATION','MARRIAGE','SEX','PAY_1','PAY_2','PAY_3', 'PAY_4', 'PAY_5', 'PAY_6']\n",
    "col_y = ['default_0']"
   ]
  },
  {
   "cell_type": "code",
   "execution_count": 46,
   "metadata": {
    "ExecuteTime": {
     "end_time": "2020-03-30T20:47:43.352889Z",
     "start_time": "2020-03-30T20:47:43.334629Z"
    }
   },
   "outputs": [],
   "source": [
    "y = dev['default_0']\n",
    "X_train, X_test, y_train, y_test = train_test_split(dev, y, test_size=0.2, random_state=1)"
   ]
  },
  {
   "cell_type": "code",
   "execution_count": 47,
   "metadata": {
    "ExecuteTime": {
     "end_time": "2020-03-30T20:47:44.971461Z",
     "start_time": "2020-03-30T20:47:44.961628Z"
    }
   },
   "outputs": [
    {
     "data": {
      "text/plain": [
       "((15453, 25), (3864, 25))"
      ]
     },
     "execution_count": 47,
     "metadata": {},
     "output_type": "execute_result"
    }
   ],
   "source": [
    "X_train.shape, X_test.shape"
   ]
  },
  {
   "cell_type": "code",
   "execution_count": 48,
   "metadata": {
    "ExecuteTime": {
     "end_time": "2020-03-30T20:47:46.742097Z",
     "start_time": "2020-03-30T20:47:46.704761Z"
    }
   },
   "outputs": [],
   "source": [
    "scaler = StandardScaler() \n",
    "\n",
    "X_train_prep = scaler.fit_transform(X_train[cols_prep].values) # скейлим числовые признаки \n",
    "X_test_prep = scaler.transform(X_test[cols_prep].values)       # скейлим числовые признаки \n",
    "\n",
    "x_train_full = np.hstack((X_train_prep, X_train[cols_no_prep].values)) # конкатеначим с категориальными\n",
    "x_test_full = np.hstack((X_test_prep, X_test[cols_no_prep].values))    # конкатеначим с категориальными"
   ]
  },
  {
   "cell_type": "code",
   "execution_count": 49,
   "metadata": {
    "ExecuteTime": {
     "end_time": "2020-03-30T20:47:52.066155Z",
     "start_time": "2020-03-30T20:47:48.352928Z"
    }
   },
   "outputs": [],
   "source": [
    "N_ = 200\n",
    "forest = RandomForestClassifier(n_estimators=N_, random_state=1, n_jobs=-1) \n",
    "forest.fit(x_train_full, y_train.values)\n",
    "y_pred = forest.predict(x_test_full)\n",
    "prec = precision_score(y_test, y_pred)"
   ]
  },
  {
   "cell_type": "code",
   "execution_count": 50,
   "metadata": {
    "ExecuteTime": {
     "end_time": "2020-03-30T20:47:52.918554Z",
     "start_time": "2020-03-30T20:47:52.913095Z"
    }
   },
   "outputs": [
    {
     "name": "stdout",
     "output_type": "stream",
     "text": [
      "Точность: 83.80447585394582\n"
     ]
    }
   ],
   "source": [
    "print(f\"Точность: {100*prec}\")"
   ]
  },
  {
   "cell_type": "markdown",
   "metadata": {},
   "source": [
    "### Распределение тестовой выборки и valid\n",
    "Посмотрим как распределены тестовая выборка и выборка из вкладки \"valid\". <br>\n",
    "Если они распределены одинаково, то мы можем ожидать, что точность на выборке \"valid\" будет равна точности на тестовой выборке, а значит дефолт случится у 16.2% клиентов, которых мы определили в \"хороших\"."
   ]
  },
  {
   "cell_type": "code",
   "execution_count": 51,
   "metadata": {
    "ExecuteTime": {
     "end_time": "2020-03-30T20:48:13.679743Z",
     "start_time": "2020-03-30T20:48:13.619868Z"
    }
   },
   "outputs": [
    {
     "data": {
      "text/html": [
       "<div>\n",
       "<style scoped>\n",
       "    .dataframe tbody tr th:only-of-type {\n",
       "        vertical-align: middle;\n",
       "    }\n",
       "\n",
       "    .dataframe tbody tr th {\n",
       "        vertical-align: top;\n",
       "    }\n",
       "\n",
       "    .dataframe thead th {\n",
       "        text-align: right;\n",
       "    }\n",
       "</style>\n",
       "<table border=\"1\" class=\"dataframe\">\n",
       "  <thead>\n",
       "    <tr style=\"text-align: right;\">\n",
       "      <th></th>\n",
       "      <th>ID</th>\n",
       "      <th>LIMIT_BAL</th>\n",
       "      <th>SEX</th>\n",
       "      <th>EDUCATION</th>\n",
       "      <th>MARRIAGE</th>\n",
       "      <th>AGE</th>\n",
       "      <th>PAY_1</th>\n",
       "      <th>PAY_2</th>\n",
       "      <th>PAY_3</th>\n",
       "      <th>PAY_4</th>\n",
       "      <th>...</th>\n",
       "      <th>BILL_AMT3</th>\n",
       "      <th>BILL_AMT4</th>\n",
       "      <th>BILL_AMT5</th>\n",
       "      <th>BILL_AMT6</th>\n",
       "      <th>PAY_AMT1</th>\n",
       "      <th>PAY_AMT2</th>\n",
       "      <th>PAY_AMT3</th>\n",
       "      <th>PAY_AMT4</th>\n",
       "      <th>PAY_AMT5</th>\n",
       "      <th>PAY_AMT6</th>\n",
       "    </tr>\n",
       "  </thead>\n",
       "  <tbody>\n",
       "    <tr>\n",
       "      <th>4678</th>\n",
       "      <td>23985</td>\n",
       "      <td>50000.0</td>\n",
       "      <td>1</td>\n",
       "      <td>2</td>\n",
       "      <td>1</td>\n",
       "      <td>44</td>\n",
       "      <td>1</td>\n",
       "      <td>2</td>\n",
       "      <td>2</td>\n",
       "      <td>2</td>\n",
       "      <td>...</td>\n",
       "      <td>33101.0</td>\n",
       "      <td>28192</td>\n",
       "      <td>22676</td>\n",
       "      <td>14647</td>\n",
       "      <td>2300.0</td>\n",
       "      <td>1700.0</td>\n",
       "      <td>0</td>\n",
       "      <td>517</td>\n",
       "      <td>503.0</td>\n",
       "      <td>585.0</td>\n",
       "    </tr>\n",
       "    <tr>\n",
       "      <th>4679</th>\n",
       "      <td>23988</td>\n",
       "      <td>240000.0</td>\n",
       "      <td>1</td>\n",
       "      <td>1</td>\n",
       "      <td>2</td>\n",
       "      <td>30</td>\n",
       "      <td>-2</td>\n",
       "      <td>-2</td>\n",
       "      <td>-2</td>\n",
       "      <td>-2</td>\n",
       "      <td>...</td>\n",
       "      <td>0.0</td>\n",
       "      <td>0</td>\n",
       "      <td>0</td>\n",
       "      <td>0</td>\n",
       "      <td>0.0</td>\n",
       "      <td>0.0</td>\n",
       "      <td>0</td>\n",
       "      <td>0</td>\n",
       "      <td>0.0</td>\n",
       "      <td>0.0</td>\n",
       "    </tr>\n",
       "    <tr>\n",
       "      <th>4680</th>\n",
       "      <td>23991</td>\n",
       "      <td>250000.0</td>\n",
       "      <td>1</td>\n",
       "      <td>1</td>\n",
       "      <td>1</td>\n",
       "      <td>34</td>\n",
       "      <td>0</td>\n",
       "      <td>0</td>\n",
       "      <td>0</td>\n",
       "      <td>0</td>\n",
       "      <td>...</td>\n",
       "      <td>243075.0</td>\n",
       "      <td>245750</td>\n",
       "      <td>175005</td>\n",
       "      <td>179687</td>\n",
       "      <td>65000.0</td>\n",
       "      <td>8800.0</td>\n",
       "      <td>9011</td>\n",
       "      <td>6000</td>\n",
       "      <td>7000.0</td>\n",
       "      <td>6009.0</td>\n",
       "    </tr>\n",
       "    <tr>\n",
       "      <th>4681</th>\n",
       "      <td>23994</td>\n",
       "      <td>10000.0</td>\n",
       "      <td>1</td>\n",
       "      <td>3</td>\n",
       "      <td>1</td>\n",
       "      <td>43</td>\n",
       "      <td>0</td>\n",
       "      <td>0</td>\n",
       "      <td>0</td>\n",
       "      <td>-2</td>\n",
       "      <td>...</td>\n",
       "      <td>0.0</td>\n",
       "      <td>0</td>\n",
       "      <td>0</td>\n",
       "      <td>0</td>\n",
       "      <td>2000.0</td>\n",
       "      <td>0.0</td>\n",
       "      <td>0</td>\n",
       "      <td>0</td>\n",
       "      <td>0.0</td>\n",
       "      <td>0.0</td>\n",
       "    </tr>\n",
       "    <tr>\n",
       "      <th>4682</th>\n",
       "      <td>23996</td>\n",
       "      <td>80000.0</td>\n",
       "      <td>1</td>\n",
       "      <td>2</td>\n",
       "      <td>2</td>\n",
       "      <td>34</td>\n",
       "      <td>2</td>\n",
       "      <td>2</td>\n",
       "      <td>2</td>\n",
       "      <td>2</td>\n",
       "      <td>...</td>\n",
       "      <td>79384.0</td>\n",
       "      <td>77519</td>\n",
       "      <td>82607</td>\n",
       "      <td>81158</td>\n",
       "      <td>7000.0</td>\n",
       "      <td>3500.0</td>\n",
       "      <td>0</td>\n",
       "      <td>7000</td>\n",
       "      <td>0.0</td>\n",
       "      <td>4000.0</td>\n",
       "    </tr>\n",
       "  </tbody>\n",
       "</table>\n",
       "<p>5 rows × 24 columns</p>\n",
       "</div>"
      ],
      "text/plain": [
       "         ID  LIMIT_BAL  SEX  EDUCATION  MARRIAGE  AGE  PAY_1  PAY_2  PAY_3  \\\n",
       "4678  23985    50000.0    1          2         1   44      1      2      2   \n",
       "4679  23988   240000.0    1          1         2   30     -2     -2     -2   \n",
       "4680  23991   250000.0    1          1         1   34      0      0      0   \n",
       "4681  23994    10000.0    1          3         1   43      0      0      0   \n",
       "4682  23996    80000.0    1          2         2   34      2      2      2   \n",
       "\n",
       "      PAY_4  ...  BILL_AMT3  BILL_AMT4  BILL_AMT5  BILL_AMT6  PAY_AMT1  \\\n",
       "4678      2  ...    33101.0      28192      22676      14647    2300.0   \n",
       "4679     -2  ...        0.0          0          0          0       0.0   \n",
       "4680      0  ...   243075.0     245750     175005     179687   65000.0   \n",
       "4681     -2  ...        0.0          0          0          0    2000.0   \n",
       "4682      2  ...    79384.0      77519      82607      81158    7000.0   \n",
       "\n",
       "      PAY_AMT2  PAY_AMT3  PAY_AMT4  PAY_AMT5  PAY_AMT6  \n",
       "4678    1700.0         0       517     503.0     585.0  \n",
       "4679       0.0         0         0       0.0       0.0  \n",
       "4680    8800.0      9011      6000    7000.0    6009.0  \n",
       "4681       0.0         0         0       0.0       0.0  \n",
       "4682    3500.0         0      7000       0.0    4000.0  \n",
       "\n",
       "[5 rows x 24 columns]"
      ]
     },
     "execution_count": 51,
     "metadata": {},
     "output_type": "execute_result"
    }
   ],
   "source": [
    "valid = pd.read_csv('valid.csv', sep=';')\n",
    "valid.tail()"
   ]
  },
  {
   "cell_type": "code",
   "execution_count": 62,
   "metadata": {
    "ExecuteTime": {
     "end_time": "2020-03-31T11:33:05.976644Z",
     "start_time": "2020-03-31T11:33:05.968600Z"
    }
   },
   "outputs": [],
   "source": [
    "### \"SEX\" имеет распределение бернулли, поэтому построим доверительный интервал для разности двух долей\n",
    "def proportions_confint_diff_ind(sample1, sample2, alpha): \n",
    "    sample1 = sample1.map({1: 0, 2:1}) \n",
    "    sample2 = sample2.map({1: 0, 2:1}) \n",
    "    z = scipy.stats.norm.ppf(1 - alpha / 2.)   \n",
    "    p1 = float(sum(sample1)) / len(sample1)\n",
    "    p2 = float(sum(sample2)) / len(sample2)\n",
    "    \n",
    "    left_boundary = (p1 - p2) - z * np.sqrt(p1 * (1 - p1)/ len(sample1) + p2 * (1 - p2)/ len(sample2))\n",
    "    right_boundary = (p1 - p2) + z * np.sqrt(p1 * (1 - p1)/ len(sample1) + p2 * (1 - p2)/ len(sample2))\n",
    "    \n",
    "    return (left_boundary, right_boundary)"
   ]
  },
  {
   "cell_type": "code",
   "execution_count": 63,
   "metadata": {
    "ExecuteTime": {
     "end_time": "2020-03-31T11:33:49.805136Z",
     "start_time": "2020-03-31T11:33:46.783829Z"
    }
   },
   "outputs": [
    {
     "name": "stdout",
     "output_type": "stream",
     "text": [
      "Attr: LIMIT_BAL | U p-value: 0.47447929883994905\n",
      "Attr: EDUCATION | U p-value: 0.47249143378633035\n",
      "Attr: MARRIAGE | U p-value: 0.22745650459624278\n",
      "Attr: BILL_AMT1 | U p-value: 0.48275676918147065\n",
      "Attr: PAY_AMT5 | U p-value: 0.1701398437501523\n",
      "Attr: AGE | U p-value: 0.3851620893297286\n",
      "Attr: PAY_1 | U p-value: 0.25191675654994816\n",
      "Attr: SEX\n",
      "a=0.01: (-0.04215097314693721, -0.0013100298424999109)\n",
      "a=0.05: (-0.037268560996769666, -0.00619244199266745)\n",
      "a=0.1: (-0.03477045209040985, -0.00869055089902727)\n"
     ]
    },
    {
     "data": {
      "image/png": "[encoded data removed]",
      "text/plain": [
       "<Figure size 864x1152 with 7 Axes>"
      ]
     },
     "metadata": {
      "needs_background": "light"
     },
     "output_type": "display_data"
    }
   ],
   "source": [
    "cols = ['LIMIT_BAL','EDUCATION','MARRIAGE','BILL_AMT1','PAY_AMT5','AGE','PAY_1']\n",
    "plt.figure(figsize=(12, 16))\n",
    "for i,j in enumerate(cols):\n",
    "    plt.subplot(4, 2, i+1)\n",
    "    sns.distplot(dev[j])\n",
    "    sns.distplot(valid[j])\n",
    "    u, p = stats.mannwhitneyu(dev[j], valid[j])\n",
    "    print(f'Attr: {j} | U p-value: {p}')\n",
    "\n",
    "print(\"Attr: SEX\")\n",
    "for a in [0.01, 0.05, 0.1]:\n",
    "    print(f\"a={a}: {proportions_confint_diff_ind(dev['SEX'], valid['SEX'], a)}\")"
   ]
  },
  {
   "cell_type": "markdown",
   "metadata": {},
   "source": [
    "###  Отлично. \n",
    "Далее мы обучаем нашу модель на всей выборки dev. <br>\n",
    "Тестируем на выборке valid. <br>\n",
    "И оцениваем прибыль от кредитного продукта Rev = $precision$ * 1500 * $num$ - (1-$precision$) * 5000 * $num$, <br>\n",
    "где $num$ -- количество 1 из всего массива предсказанных меток класса, $precision$ -- оценка точности 83.8%."
   ]
  },
  {
   "cell_type": "code",
   "execution_count": 56,
   "metadata": {
    "ExecuteTime": {
     "end_time": "2020-03-30T20:49:54.926823Z",
     "start_time": "2020-03-30T20:49:54.889701Z"
    }
   },
   "outputs": [],
   "source": [
    "y_train = dev['default_0']\n",
    "X_train = dev\n",
    "X_test = valid\n",
    "\n",
    "scaler = StandardScaler() \n",
    "\n",
    "X_train_prep = scaler.fit_transform(X_train[cols_prep].values) # скейлим числовые признаки \n",
    "X_test_prep = scaler.transform(X_test[cols_prep].values)       # скейлим числовые признаки \n",
    "\n",
    "x_train_full = np.hstack((X_train_prep, X_train[cols_no_prep].values)) # конкатеначим с категориальными\n",
    "x_test_full = np.hstack((X_test_prep, X_test[cols_no_prep].values))    # конкатеначим с категориальными"
   ]
  },
  {
   "cell_type": "code",
   "execution_count": 57,
   "metadata": {
    "ExecuteTime": {
     "end_time": "2020-03-30T20:50:08.005863Z",
     "start_time": "2020-03-30T20:50:02.976552Z"
    }
   },
   "outputs": [],
   "source": [
    "N_ = 200\n",
    "forest = RandomForestClassifier(n_estimators=N_, random_state=1, n_jobs=-1) \n",
    "forest.fit(x_train_full, y_train.values)\n",
    "y_pred = forest.predict(x_test_full)"
   ]
  },
  {
   "cell_type": "code",
   "execution_count": 59,
   "metadata": {
    "ExecuteTime": {
     "end_time": "2020-03-30T20:51:17.812642Z",
     "start_time": "2020-03-30T20:51:17.804936Z"
    }
   },
   "outputs": [
    {
     "name": "stdout",
     "output_type": "stream",
     "text": [
      "Количество 'хороших' клиентов:  4096\n"
     ]
    }
   ],
   "source": [
    "num = y_pred.sum()\n",
    "print(\"Количество 'хороших' клиентов: \",num)"
   ]
  },
  {
   "cell_type": "code",
   "execution_count": 60,
   "metadata": {
    "ExecuteTime": {
     "end_time": "2020-03-30T20:51:19.986168Z",
     "start_time": "2020-03-30T20:51:19.977805Z"
    }
   },
   "outputs": [
    {
     "name": "stdout",
     "output_type": "stream",
     "text": [
      "Revenue = 1832104.0 y.e.\n"
     ]
    }
   ],
   "source": [
    "print(f\"Revenue = {round(1500*num*prec - 5000*num*(1-prec))} y.e.\")"
   ]
  },
  {
   "cell_type": "code",
   "execution_count": 61,
   "metadata": {
    "ExecuteTime": {
     "end_time": "2020-03-30T20:51:28.396989Z",
     "start_time": "2020-03-30T20:51:28.178801Z"
    }
   },
   "outputs": [
    {
     "data": {
      "text/html": [
       "<div>\n",
       "<style scoped>\n",
       "    .dataframe tbody tr th:only-of-type {\n",
       "        vertical-align: middle;\n",
       "    }\n",
       "\n",
       "    .dataframe tbody tr th {\n",
       "        vertical-align: top;\n",
       "    }\n",
       "\n",
       "    .dataframe thead th {\n",
       "        text-align: right;\n",
       "    }\n",
       "</style>\n",
       "<table border=\"1\" class=\"dataframe\">\n",
       "  <thead>\n",
       "    <tr style=\"text-align: right;\">\n",
       "      <th></th>\n",
       "      <th>approve</th>\n",
       "    </tr>\n",
       "  </thead>\n",
       "  <tbody>\n",
       "    <tr>\n",
       "      <th>0</th>\n",
       "      <td>1</td>\n",
       "    </tr>\n",
       "    <tr>\n",
       "      <th>1</th>\n",
       "      <td>1</td>\n",
       "    </tr>\n",
       "    <tr>\n",
       "      <th>2</th>\n",
       "      <td>1</td>\n",
       "    </tr>\n",
       "    <tr>\n",
       "      <th>3</th>\n",
       "      <td>1</td>\n",
       "    </tr>\n",
       "    <tr>\n",
       "      <th>4</th>\n",
       "      <td>1</td>\n",
       "    </tr>\n",
       "  </tbody>\n",
       "</table>\n",
       "</div>"
      ],
      "text/plain": [
       "   approve\n",
       "0        1\n",
       "1        1\n",
       "2        1\n",
       "3        1\n",
       "4        1"
      ]
     },
     "execution_count": 61,
     "metadata": {},
     "output_type": "execute_result"
    }
   ],
   "source": [
    "df = pd.DataFrame({'approve': y_pred})\n",
    "df.to_excel(\"output.xlsx\", sheet_name='Sheet_name_1')  \n",
    "df.head()"
   ]
  },
  {
   "cell_type": "code",
   "execution_count": null,
   "metadata": {},
   "outputs": [],
   "source": []
  },
  {
   "cell_type": "code",
   "execution_count": null,
   "metadata": {},
   "outputs": [],
   "source": []
  },
  {
   "cell_type": "code",
   "execution_count": null,
   "metadata": {},
   "outputs": [],
   "source": []
  },
  {
   "cell_type": "code",
   "execution_count": null,
   "metadata": {},
   "outputs": [],
   "source": []
  }
 ],
 "metadata": {
  "kernelspec": {
   "display_name": "Python 3",
   "language": "python",
   "name": "python3"
  },
  "language_info": {
   "codemirror_mode": {
    "name": "ipython",
    "version": 3
   },
   "file_extension": ".py",
   "mimetype": "text/x-python",
   "name": "python",
   "nbconvert_exporter": "python",
   "pygments_lexer": "ipython3",
   "version": "3.6.8"
  },
  "toc": {
   "base_numbering": 1,
   "nav_menu": {},
   "number_sections": false,
   "sideBar": true,
   "skip_h1_title": false,
   "title_cell": "Table of Contents",
   "title_sidebar": "Contents",
   "toc_cell": false,
   "toc_position": {},
   "toc_section_display": true,
   "toc_window_display": false
  },
  "varInspector": {
   "cols": {
    "lenName": 16,
    "lenType": 16,
    "lenVar": 40
   },
   "kernels_config": {
    "python": {
     "delete_cmd_postfix": "",
     "delete_cmd_prefix": "del ",
     "library": "var_list.py",
     "varRefreshCmd": "print(var_dic_list())"
    },
    "r": {
     "delete_cmd_postfix": ") ",
     "delete_cmd_prefix": "rm(",
     "library": "var_list.r",
     "varRefreshCmd": "cat(var_dic_list()) "
    }
   },
   "types_to_exclude": [
    "module",
    "function",
    "builtin_function_or_method",
    "instance",
    "_Feature"
   ],
   "window_display": false
  }
 },
 "nbformat": 4,
 "nbformat_minor": 2
}
