{
 "cells": [
  {
   "cell_type": "markdown",
   "metadata": {},
   "source": [
    " ### 1 SQL - легкий уровень\n",
    "#### Задание 1.1\n",
    "Вывести средний размер заработной платы и pos-оборота по территориальным банкам."
   ]
  },
  {
   "cell_type": "code",
   "execution_count": null,
   "metadata": {
    "ExecuteTime": {
     "end_time": "2020-04-10T19:39:05.219120Z",
     "start_time": "2020-04-10T19:39:05.196271Z"
    }
   },
   "outputs": [],
   "source": [
    "\"\"\"\n",
    "SELECT\n",
    "    tb_name,\n",
    "    AVG(sallary),\n",
    "    AVG(pos_amt)\n",
    "FROM \n",
    "    $clnt_aggr\n",
    "GROUP BY\n",
    "    tb_name\n",
    "\"\"\""
   ]
  },
  {
   "cell_type": "markdown",
   "metadata": {},
   "source": [
    "#### Задание 1.2 \n",
    "Вывести распределение клиентов по  территориальным банкам. Учитывать только тех клиентов, у которых pos-оборот  больше  или равен 1000 руб."
   ]
  },
  {
   "cell_type": "code",
   "execution_count": null,
   "metadata": {
    "ExecuteTime": {
     "end_time": "2020-04-10T19:43:18.570287Z",
     "start_time": "2020-04-10T19:43:18.562342Z"
    }
   },
   "outputs": [],
   "source": [
    "\"\"\"\n",
    "SELECT\n",
    "    tb_name,\n",
    "    count(client_dk) as total\n",
    "FROM \n",
    "    $clnt_aggr\n",
    "WHERE\n",
    "    pos_amt >= 1000\n",
    "GROUP BY\n",
    "    tb_name\n",
    "ORDER BY\n",
    "    total DESC\n",
    "\"\"\""
   ]
  },
  {
   "cell_type": "markdown",
   "metadata": {},
   "source": [
    "#### Задание 1.3\n",
    "Вывести  распределение клиентов по  территориальным банкам и группе по возрасту (меньше 18 (включительно), от 18 до 30 (включительно), от 30 до 60(включительно), больше 60 лет)."
   ]
  },
  {
   "cell_type": "code",
   "execution_count": null,
   "metadata": {
    "ExecuteTime": {
     "end_time": "2020-04-10T19:43:18.570287Z",
     "start_time": "2020-04-10T19:43:18.562342Z"
    }
   },
   "outputs": [],
   "source": [
    "\"\"\"\n",
    "SELECT\n",
    "    a.tb_name,\n",
    "    SUM(CASE WHEN (b.age <= 18) THEN 1 ELSE 0 END) as 'age_0_18',\n",
    "    SUM(CASE WHEN (b.age > 18 AND b.age <= 30)  THEN 1 ELSE 0 END) as 'age_18_30',\n",
    "    SUM(CASE WHEN (b.age > 30 AND b.age <= 60)  THEN 1 ELSE 0 END) as 'age_30_60',\n",
    "    SUM(CASE WHEN (b.age > 60) THEN 1 ELSE 0 END) as 'age_60_plus'\n",
    "FROM\n",
    "    $clnt_aggr as a\n",
    "INNER JOIN \n",
    "    $clnt_data as b\n",
    "ON a.client_dk = b.client_dk\n",
    "GROUP BY\n",
    "    a.tb_name\n",
    "ORDER BY\n",
    "    age_0_18 DESC\n",
    "\"\"\""
   ]
  },
  {
   "cell_type": "markdown",
   "metadata": {},
   "source": [
    "#### Задание 1.4\n",
    "Вывести территориальный банк, возраст и заработную плату клиентов, получающих максимальную заработную плату в своем территориальном банке."
   ]
  },
  {
   "cell_type": "code",
   "execution_count": null,
   "metadata": {
    "ExecuteTime": {
     "end_time": "2020-04-10T19:43:18.570287Z",
     "start_time": "2020-04-10T19:43:18.562342Z"
    }
   },
   "outputs": [],
   "source": [
    "\"\"\"\n",
    "SELECT\n",
    "    a.tb_name,\n",
    "    b.age,\n",
    "    a.max_sallary\n",
    "FROM (\n",
    "    SELECT\n",
    "        tb_name,\n",
    "        client_dk,\n",
    "        MAX(sallary) as max_sallary\n",
    "    FROM \n",
    "        $clnt_aggr\n",
    "    GROUP BY\n",
    "        tb_name\n",
    ") as a\n",
    "INNER JOIN \n",
    "    $clnt_data as b\n",
    "ON a.client_dk = b.client_dk\n",
    "\"\"\""
   ]
  },
  {
   "cell_type": "markdown",
   "metadata": {},
   "source": [
    "#### Задание 1.5\n",
    "Вывести идентификаторы клиентов, у которых  pos-оборот строго больше, чем в среднем по базе."
   ]
  },
  {
   "cell_type": "code",
   "execution_count": null,
   "metadata": {
    "ExecuteTime": {
     "end_time": "2020-04-10T19:43:18.570287Z",
     "start_time": "2020-04-10T19:43:18.562342Z"
    }
   },
   "outputs": [],
   "source": [
    "\"\"\"\n",
    "SELECT\n",
    "    client_dk\n",
    "FROM \n",
    "    $clnt_aggr\n",
    "WHERE\n",
    "    pos_amt > (SELECT AVG(pos_amt) FROM $clnt_aggr)\n",
    "\"\"\""
   ]
  },
  {
   "attachments": {},
   "cell_type": "markdown",
   "metadata": {},
   "source": [
    "#### Задание 1.6*\n",
    "Перед отпуском руководитель попросил вас: «вывести распределение клиентов по уровню заработной платы*». Необходимо подготовить 1 слайд, который раскроет данную проблематику.\n",
    "\n",
    "`*Подсказка: задание творческое.  При выполнении задания можно создавать промежуточные таблицы - приложить код и описать графики, которые будут показаны на слайде.`\n",
    "\n",
    "Я так понимаю, здесь, желательно показать как бы я представил данные.\n",
    "Я бы отобразил следующее:\n",
    "    - гистограмму распределения\n",
    "    - средние величины: мат. ожидание, медиану, моду\n",
    "    - **возможно** отдельно выделил некоторые специальные значения, например, если будут те, кто получает ниже МРОТ"
   ]
  },
  {
   "cell_type": "code",
   "execution_count": 98,
   "metadata": {
    "ExecuteTime": {
     "end_time": "2020-04-11T19:27:17.439690Z",
     "start_time": "2020-04-11T19:27:17.432707Z"
    }
   },
   "outputs": [
    {
     "data": {
      "image/png": "[encoded data removed]",
      "text/plain": [
       "<Figure size 864x432 with 1 Axes>"
      ]
     },
     "metadata": {
      "needs_background": "light"
     },
     "output_type": "display_data"
    }
   ],
   "source": [
    "import seaborn as sns\n",
    "import matplotlib.pyplot as plt\n",
    "import random\n",
    "from scipy.stats import mode\n",
    "from numpy import mean, median\n",
    "\n",
    "data = [round(random.gammavariate(4, 18),2)+10 for _ in range(1000000)]\n",
    "mean_, median_, mode_ = [round(mean(data),2), round(median(data),2), round(mode(list(map(round,data)))[0][0],2)] \n",
    "                                                                          \n",
    "plt.figure(figsize=(12, 6))\n",
    "plt.grid(True)\n",
    "plt.axvspan(mean_-1, mean_+1, facecolor='r', alpha=0.5)\n",
    "plt.axvspan(median_-1, median_+1, facecolor='g', alpha=0.5)\n",
    "plt.axvspan(mode_-1, mode_+1, facecolor='y', alpha=0.5)\n",
    "plt.ylabel('Количество клиентов')\n",
    "plt.xlabel('Заработаная плата, тыс. руб')\n",
    "\n",
    "plt.legend(('mean='+str(mean_), 'median='+str(median_), 'mode='+str(mode_)), loc=(0.71, 0.7), fontsize=16)\n",
    "ax = sns.distplot(data, kde=False)"
   ]
  },
  {
   "cell_type": "markdown",
   "metadata": {},
   "source": [
    "### 2 SQL - сложный уровень\n",
    "#### Задание 2.1 \n",
    "По каждому клиенту найти кол-во дней (с начала 2019г. до конца июня 2019г.), которое ему потребовалось, чтобы совершить транзакций (расходных операций) на сумму не меньшую, чем его кредитный потенциал. Если он так и не потратил его, то вывести по клиенту значение = 200\n",
    "\n",
    "\n",
    "* \"Не меньшую\" - это \">=\"\n",
    "* Выходная таблица должна быть в формате:\n",
    "\n",
    "| client_dk   |took_days|\n",
    "|-------------|:-------:|\n",
    "| 213 902 233 |    27   |\n",
    "| 832 929 999 |    26   |\n",
    "| 123 123 111 |   200   |\n",
    "   \n",
    "* Столбец type(Trx_dt) = date <br>\n",
    "Допустим, у нас есть библиотека для работы датами DATETIME (я просто не знаю какая стоит у вас, во всех реализация по-разному). <br>\n",
    "Я буду использовать следующие функции: <br>\n",
    "\n",
    "     **INTERVAL(date1, date2, scale) - вычисляет разницу между date1 и date2 в единицах scale='day'**\n",
    "\n"
   ]
  },
  {
   "cell_type": "code",
   "execution_count": null,
   "metadata": {
    "ExecuteTime": {
     "end_time": "2020-04-11T19:27:17.439690Z",
     "start_time": "2020-04-11T19:27:17.432707Z"
    }
   },
   "outputs": [],
   "source": [
    "\"\"\"\n",
    "$pre = (\n",
    "    SELECT\n",
    "        client_dk,\n",
    "        DATETIME.INTERVAL(Trx_dt, DATE('01-01-2019'),'day') as trans_date,\n",
    "        SUM(Trx_amt) as day_total\n",
    "    FROM\n",
    "        $daily_trx\n",
    "    WHERE\n",
    "        (Trx_dt >= DATE('01-01-2019') AND Trx_dt < DATE('01-07-2019'))\n",
    "        AND Trx_type == 'C'\n",
    "    GROUP BY\n",
    "        client_dk, trans_date\n",
    ")\n",
    "\n",
    "$balanced = (\n",
    "    SELECT\n",
    "        *,\n",
    "        sum(a.day_total) OVER (PARTITION BY a.client_dk ORDER BY a.trans_date ASC) - b.Crd_potential as balance\n",
    "    FROM \n",
    "        $pre as a\n",
    "    INNER JOIN\n",
    "        $cred_potential as b\n",
    "    ON a.client_dk = b.client_dk\n",
    ")\n",
    "\n",
    "$only_less_200 = (\n",
    "    SELECT\n",
    "        client_dk,\n",
    "        MIN(trans_date) as took_days\n",
    "    FROM \n",
    "        $balanced\n",
    "    WHERE\n",
    "        balance >= 0\n",
    "    GROUP BY\n",
    "        client_dk\n",
    ")\n",
    "\n",
    "$all_clients = (\n",
    "    SELECT\n",
    "        DISTINCT client_dk, '200' as took_days\n",
    "    FROM\n",
    "        $daily_trx\n",
    "    WHERE\n",
    "        (Trx_dt >= DATE('01-01-2019') AND Trx_dt < DATE('01-07-2019'))\n",
    "        AND Trx_type == 'C'\n",
    ")\n",
    "\n",
    "SELECT\n",
    "    a.client_dk,\n",
    "    CASE WHEN b.client_dk THEN b.took_days ELSE a.took_days END as took_days\n",
    "FROM \n",
    "    $all_clients as a\n",
    "LEFT JOIN \n",
    "    $only_less_200 as b\n",
    "ON a.client_dk = b.client_dk\n",
    "\"\"\""
   ]
  },
  {
   "cell_type": "markdown",
   "metadata": {},
   "source": [
    "#### Задание 2.2 \n",
    "Все то же самое, но теперь учитывать только транзакции в подгруппах mcc кодов, в названиях которых содержится слово «снятие»\n",
    "\n",
    "*  **LOWER()** - преобразует строку к нижнему регистру"
   ]
  },
  {
   "cell_type": "code",
   "execution_count": null,
   "metadata": {
    "ExecuteTime": {
     "end_time": "2020-04-11T19:27:17.439690Z",
     "start_time": "2020-04-11T19:27:17.432707Z"
    }
   },
   "outputs": [],
   "source": [
    "\"\"\"\n",
    "$pre_merchant_info = (\n",
    "    SELECT\n",
    "        Merch_id\n",
    "    FROM\n",
    "        $merchant_info\n",
    "    WHERE\n",
    "        LOWER(Mcc_name) LIKE '%снятие%'\n",
    ")\n",
    "\n",
    "$pre_daily_trx = (\n",
    "    SELECT\n",
    "        client_dk,\n",
    "        DATETIME.INTERVAL(Trx_dt, DATE('01-01-2019'),'day') as trans_date,\n",
    "        Trx_amt,\n",
    "        Merch_id\n",
    "    FROM\n",
    "        $daily_trx\n",
    "    WHERE\n",
    "        (Trx_dt >= DATE('01-01-2019') AND Trx_dt < DATE('01-07-2019'))\n",
    "        AND Trx_type == 'C'\n",
    ")\n",
    "\n",
    "$pre = (\n",
    "    SELECT\n",
    "        a.client_dk,\n",
    "        a.trans_date,\n",
    "        SUM(a.Trx_amt) as day_total\n",
    "    FROM\n",
    "        $pre_daily_trx as a\n",
    "    INNER JOIN\n",
    "        $pre_merchant_info as b\n",
    "    ON a.Merch_id = b.Merch_id\n",
    "    GROUP BY\n",
    "        a.trans_date\n",
    ")\n",
    "\n",
    "$balanced = (\n",
    "    SELECT\n",
    "        *,\n",
    "        sum(a.day_total) OVER (PARTITION BY a.client_dk ORDER BY a.trans_date ASC) - b.Crd_potential as balance\n",
    "    FROM\n",
    "        $pre as a\n",
    "    INNER JOIN\n",
    "        $cred_potential as b\n",
    "    ON a.client_dk = b.client_dk\n",
    ")\n",
    "    \n",
    "$only_less_200 = (\n",
    "    SELECT\n",
    "        client_dk,\n",
    "        MIN(trans_date) as took_days\n",
    "    FROM \n",
    "        $balanced\n",
    "    WHERE\n",
    "        balance >= 0\n",
    "    GROUP BY\n",
    "        client_dk\n",
    ")\n",
    "\n",
    "$all_clients = (\n",
    "    SELECT\n",
    "        DISTINCT client_dk, '200' as took_days\n",
    "    FROM\n",
    "        $pre\n",
    ")\n",
    "\n",
    "SELECT\n",
    "    a.client_dk,\n",
    "    CASE WHEN b.client_dk THEN b.took_days ELSE a.took_days END as took_days\n",
    "FROM \n",
    "    $all_clients as a\n",
    "LEFT JOIN \n",
    "    $only_less_200 as b\n",
    "ON a.client_dk = b.client_dk\n",
    "\"\"\""
   ]
  },
  {
   "cell_type": "markdown",
   "metadata": {},
   "source": [
    "#### Задание  2.3 \n",
    "Опишите логику решения задачи в пункте 2"
   ]
  },
  {
   "cell_type": "markdown",
   "metadata": {
    "ExecuteTime": {
     "end_time": "2020-04-11T19:27:17.439690Z",
     "start_time": "2020-04-11T19:27:17.432707Z"
    }
   },
   "source": [
    "1. Произведем предобработку, чтобы выделить в __daily_trx__ только транзакции __\"%снятие%\"__\n",
    "  1.  С помощью регулярных выражений найдем __Merch_id__ в __merchant_info__, где в __Mcc_name__ содержит слово __\"снятие\"__  \n",
    "  2.  В __daily_trx__ преобразуем дату транзакции к формату __\"кол-во дней с 01-01-2019\"__; исключим \"приходные\" транзакции; исключим транзакции вне промежутка __\"янв.2019 - июнь 2019\"__  \n",
    "  3. Произведем join __(A) и (B)__ по __Merch_id__\n",
    "  4. \"Схлопнем\" все транзакции до суммы по дням\n",
    "\n",
    "2. Найдем динамку для каждого __client_dk__ того, как меняется суммарный расход __(balance)__ с помощью оконной функции\n",
    "  1. Произведем join __(1.) и cred_potential__ по __client_dk__\n",
    "  2. С помощью оконной функции получим для каждого __client_dk__ суммарный расход по карте для каждого дня \n",
    "3. Для каждого __client_dk__ найдем день, когда __balance впервые__ >= 0, а если он всегда < 0, то выводим 200."
   ]
  },
  {
   "attachments": {},
   "cell_type": "markdown",
   "metadata": {},
   "source": [
    "### Бизнес-кейс!\n",
    "Заказчик просит выделить в клиентской базе Банка клиентов, которых можно привлечь в канал премиального обслуживания для ВИПов. Сейчас в канале 20 тыс. клиентов  - в основном наши зарплатные клиенты, клиенты с высокими балансами или крупными кредитами. Необходимо приземлить задачу на язык данных:\n",
    "\n",
    "1.\tОпределить  признаки, которые помогут найти «латентных» ВИПов\n",
    "2.\tОпределиться с подходом к решению задачи"
   ]
  },
  {
   "cell_type": "markdown",
   "metadata": {
    "ExecuteTime": {
     "end_time": "2020-04-11T19:27:17.439690Z",
     "start_time": "2020-04-11T19:27:17.432707Z"
    }
   },
   "source": [
    "__Вопросы 1. и 2. связаны. Поэтому ниже я буду отвечать на вопрос (2.) в теле которого будет дан ответ на вопрос (1.)__\n",
    "\n",
    "__A. Статистический подход.__\n",
    "  * Можно воспользоваться статистическими методами: например, убрать признаки имеющие малую дисперсию. В __python-пакете sklearn__ есть класс реализующий этот метод __VarianceThreshold__. \n",
    "  * Можно проверить каждый признак с помощью корреляции Пирсона и отсечь не коррелирующие признаки, если правильно выделим целевую переменную (например, если есть численный показатель \"ВИПовости\" клиента, ниже которого он может лишиться своего статуса \"ВИПа\").\n",
    "  \n",
    "__B. ML подход.__\n",
    "  * Наверняка у банка также есть канал \"не ВИПов\" - клиенты о которых мы знаем достаточно много. Имеющих то же (или приблизительно то же) пространство признаков, что и в канале \"ВИП-клиентов\".\n",
    "  * Мы можем взять из канала \"не ВИПов\" 20 тыс. клиентов и смешать их с 20 тыс. \"ВИП-клиентами\", назначив целевую переменную \"является ли клиент ВИПом\".\n",
    "  * Обучим несколько моделей классификации: метод опорных векторов (__SVM__), случайный лес (__Random Forest__). Посчитаем качество кросс-валидацией, возможно, \"покрутим\" параметры при которых достигается наибольшее качество моделей. Выделим важность признаков в этих методах. Например, в __python-пакете sklearn__, для этих моделей есть метод __feature_importances___, возращающий наиболее важные числовые признаки для этих моделей.\n",
    "  \n",
    "__C. Агрегированный подход.__\n",
    "  * Можем обучить ещё несколько ML-моделей (использующих другие методы) или взять реализации методов из __(B.)__ с одинаковым качеством и сравнить множества признаков. Допустим у нас получилось выделить по три разные реализации каждого из двух методов с разным набором признаков. \n",
    "  * Добавим к ним статистические тесты дисперсии и корреляции Пирсона и построим следующую таблицу:\n",
    "\n",
    "| Algorithm / Feature   |Feat.1|Feat.1|Feat.1|....|Feat.N|\n",
    "|-----------------------|:----:|:----:|:----:|:--:|:----:|\n",
    "| VarianceThreshold     |   0  |   1  |   0  |....|   0  |\n",
    "| Pearson Corr.         |   0  |   1  |   1  |....|   1  |\n",
    "| RandomForest v1       |   1  |   0  |   0  |....|   0  |\n",
    "| RandomForest v2       |   1  |   1  |   0  |....|   0  |\n",
    "|        ...            |  ... |  ... |  ... |....|  ... |\n",
    "| SVM v2                |   0  |   1  |   0  |....|   0  |\n",
    "| SVM v3                |   1  |   0  |   1  |....|   1  |\n",
    "| **TOTAL**             |   6  |   3  |   4  |....|   2  |\n",
    "\n",
    "Мы можем выделить какие признаки чаще встречались в разных моделях/реализациях и, например, отобрать лишь признаки встречающиеся 6 и более раз.\n",
    "  \n",
    "__D. Метод перебора.__ \n",
    "  * Более (вычислительно) сложный подход - это построить модель, обученную на подмножестве признаков доставляющих максимальное качество классификации.\n",
    "  * Нужно использовать обертку над каким-то ML-алгоритмом, использующую перебор: итеративно на каждом шаге добавлять или убирать признаки, в зависимости от того, как меняется качество классификации. Это вычислительно объемная задача, но например, можно применить метод главных компонент (__PCA__), уменьшив размерность пространства признаков, что может на порядки уменьшить наши вычислительные затраты."
   ]
  }
 ],
 "metadata": {
  "kernelspec": {
   "display_name": "Python 3",
   "language": "python",
   "name": "python3"
  },
  "language_info": {
   "codemirror_mode": {
    "name": "ipython",
    "version": 3
   },
   "file_extension": ".py",
   "mimetype": "text/x-python",
   "name": "python",
   "nbconvert_exporter": "python",
   "pygments_lexer": "ipython3",
   "version": "3.6.8"
  },
  "toc": {
   "base_numbering": 1,
   "nav_menu": {},
   "number_sections": false,
   "sideBar": true,
   "skip_h1_title": false,
   "title_cell": "Table of Contents",
   "title_sidebar": "Contents",
   "toc_cell": false,
   "toc_position": {},
   "toc_section_display": true,
   "toc_window_display": false
  },
  "varInspector": {
   "cols": {
    "lenName": 16,
    "lenType": 16,
    "lenVar": 40
   },
   "kernels_config": {
    "python": {
     "delete_cmd_postfix": "",
     "delete_cmd_prefix": "del ",
     "library": "var_list.py",
     "varRefreshCmd": "print(var_dic_list())"
    },
    "r": {
     "delete_cmd_postfix": ") ",
     "delete_cmd_prefix": "rm(",
     "library": "var_list.r",
     "varRefreshCmd": "cat(var_dic_list()) "
    }
   },
   "types_to_exclude": [
    "module",
    "function",
    "builtin_function_or_method",
    "instance",
    "_Feature"
   ],
   "window_display": false
  }
 },
 "nbformat": 4,
 "nbformat_minor": 2
}
