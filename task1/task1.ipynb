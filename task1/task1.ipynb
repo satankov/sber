{
 "cells": [
  {
   "cell_type": "code",
   "execution_count": 23,
   "metadata": {
    "ExecuteTime": {
     "end_time": "2020-03-30T20:07:03.196656Z",
     "start_time": "2020-03-30T20:07:03.189133Z"
    }
   },
   "outputs": [],
   "source": [
    "import numpy as np\n",
    "import pandas as pd\n",
    "import matplotlib.pyplot as plt\n",
    "import seaborn as sns\n",
    "import scipy\n",
    "from scipy import stats\n",
    "from statsmodels.stats.weightstats import *\n",
    "from statsmodels.stats.proportion import proportion_confint\n",
    "%matplotlib inline"
   ]
  },
  {
   "cell_type": "markdown",
   "metadata": {},
   "source": [
    "### Загрузим данные"
   ]
  },
  {
   "cell_type": "code",
   "execution_count": 5,
   "metadata": {
    "ExecuteTime": {
     "end_time": "2020-03-30T20:04:52.452724Z",
     "start_time": "2020-03-30T20:04:52.380066Z"
    }
   },
   "outputs": [
    {
     "data": {
      "text/html": [
       "<div>\n",
       "<style scoped>\n",
       "    .dataframe tbody tr th:only-of-type {\n",
       "        vertical-align: middle;\n",
       "    }\n",
       "\n",
       "    .dataframe tbody tr th {\n",
       "        vertical-align: top;\n",
       "    }\n",
       "\n",
       "    .dataframe thead th {\n",
       "        text-align: right;\n",
       "    }\n",
       "</style>\n",
       "<table border=\"1\" class=\"dataframe\">\n",
       "  <thead>\n",
       "    <tr style=\"text-align: right;\">\n",
       "      <th></th>\n",
       "      <th>Client ID</th>\n",
       "      <th>Age</th>\n",
       "      <th>Gender</th>\n",
       "      <th>Monthly Income</th>\n",
       "    </tr>\n",
       "  </thead>\n",
       "  <tbody>\n",
       "    <tr>\n",
       "      <th>495</th>\n",
       "      <td>99250</td>\n",
       "      <td>35</td>\n",
       "      <td>F</td>\n",
       "      <td>3361.19</td>\n",
       "    </tr>\n",
       "    <tr>\n",
       "      <th>496</th>\n",
       "      <td>99293</td>\n",
       "      <td>40</td>\n",
       "      <td>F</td>\n",
       "      <td>5103.11</td>\n",
       "    </tr>\n",
       "    <tr>\n",
       "      <th>497</th>\n",
       "      <td>99516</td>\n",
       "      <td>32</td>\n",
       "      <td>M</td>\n",
       "      <td>4882.56</td>\n",
       "    </tr>\n",
       "    <tr>\n",
       "      <th>498</th>\n",
       "      <td>99526</td>\n",
       "      <td>32</td>\n",
       "      <td>F</td>\n",
       "      <td>5561.87</td>\n",
       "    </tr>\n",
       "    <tr>\n",
       "      <th>499</th>\n",
       "      <td>99744</td>\n",
       "      <td>44</td>\n",
       "      <td>F</td>\n",
       "      <td>10153.13</td>\n",
       "    </tr>\n",
       "  </tbody>\n",
       "</table>\n",
       "</div>"
      ],
      "text/plain": [
       "     Client ID  Age Gender  Monthly Income\n",
       "495      99250   35      F         3361.19\n",
       "496      99293   40      F         5103.11\n",
       "497      99516   32      M         4882.56\n",
       "498      99526   32      F         5561.87\n",
       "499      99744   44      F        10153.13"
      ]
     },
     "execution_count": 5,
     "metadata": {},
     "output_type": "execute_result"
    }
   ],
   "source": [
    "no_pres = pd.read_csv('no_present.csv')   # без презентации\n",
    "yes_pres = pd.read_csv('yes_present.csv') # с презентацией\n",
    "cust_data = pd.read_csv('cust_data.csv')  # инфа о клиентах\n",
    "cust_data.tail()"
   ]
  },
  {
   "cell_type": "markdown",
   "metadata": {},
   "source": [
    "### Сравним распределение по выручке\n",
    "**HINT:** но перед этим, хочу обратить внимание, что я нашел случаи когда одному айдишнику соответствует несколько значений, и одному айдишнику соответствует несколько разных признаков. <br>\n",
    "Поэтому я удалю эти некорректные данные."
   ]
  },
  {
   "cell_type": "code",
   "execution_count": 6,
   "metadata": {
    "ExecuteTime": {
     "end_time": "2020-03-30T20:04:53.266990Z",
     "start_time": "2020-03-30T20:04:53.248105Z"
    }
   },
   "outputs": [
    {
     "data": {
      "text/plain": [
       "13472    2\n",
       "54289    2\n",
       "10422    1\n",
       "Name: Client ID, dtype: int64"
      ]
     },
     "execution_count": 6,
     "metadata": {},
     "output_type": "execute_result"
    }
   ],
   "source": [
    "# получаем хэш-мап id: count(id)\n",
    "clid_no = [no_pres['Client ID'].value_counts()][0] \n",
    "clid_yes = [yes_pres['Client ID'].value_counts()][0]\n",
    "clid_data = [cust_data['Client ID'].value_counts()][0]\n",
    "clid_no[:3]"
   ]
  },
  {
   "cell_type": "code",
   "execution_count": 7,
   "metadata": {
    "ExecuteTime": {
     "end_time": "2020-03-30T20:04:54.364037Z",
     "start_time": "2020-03-30T20:04:54.350363Z"
    }
   },
   "outputs": [
    {
     "data": {
      "text/plain": [
       "(263, 233)"
      ]
     },
     "execution_count": 7,
     "metadata": {},
     "output_type": "execute_result"
    }
   ],
   "source": [
    "no_pres = no_pres.drop_duplicates(subset='Client ID', keep=False) #keep=False удаляет все дубликаты\n",
    "# в таблице \"с презентацией\" дубликатов не было, а в таблице \"информация о клиентах\" были те же, ранее удаленные дубликаты\n",
    "# поэтому при join-е удвоений возникнуть не должно\n",
    "len(no_pres), len(yes_pres)"
   ]
  },
  {
   "cell_type": "code",
   "execution_count": 8,
   "metadata": {
    "ExecuteTime": {
     "end_time": "2020-03-30T20:04:55.965826Z",
     "start_time": "2020-03-30T20:04:55.631750Z"
    }
   },
   "outputs": [
    {
     "data": {
      "text/plain": [
       "<matplotlib.axes._subplots.AxesSubplot at 0x1a173fb160>"
      ]
     },
     "execution_count": 8,
     "metadata": {},
     "output_type": "execute_result"
    },
    {
     "data": {
      "image/png": "[encoded data removed]",
      "text/plain": [
       "<Figure size 432x288 with 1 Axes>"
      ]
     },
     "metadata": {
      "needs_background": "light"
     },
     "output_type": "display_data"
    }
   ],
   "source": [
    "sns.distplot(no_pres.Profit)\n",
    "sns.distplot(yes_pres.Profit)"
   ]
  },
  {
   "cell_type": "markdown",
   "metadata": {},
   "source": [
    "В принципе, формы схожи и данные скорее всего из одного распределения (проверю позже). <br>\n",
    "Но у нас ещё есть данные о клиентах, поэтому давайте сджойним по айдишникам и посмотрим на распределения по признакам клиентов."
   ]
  },
  {
   "cell_type": "code",
   "execution_count": 9,
   "metadata": {
    "ExecuteTime": {
     "end_time": "2020-03-30T20:04:57.656537Z",
     "start_time": "2020-03-30T20:04:57.615495Z"
    }
   },
   "outputs": [
    {
     "name": "stdout",
     "output_type": "stream",
     "text": [
      "263 233\n"
     ]
    },
    {
     "data": {
      "text/html": [
       "<div>\n",
       "<style scoped>\n",
       "    .dataframe tbody tr th:only-of-type {\n",
       "        vertical-align: middle;\n",
       "    }\n",
       "\n",
       "    .dataframe tbody tr th {\n",
       "        vertical-align: top;\n",
       "    }\n",
       "\n",
       "    .dataframe thead th {\n",
       "        text-align: right;\n",
       "    }\n",
       "</style>\n",
       "<table border=\"1\" class=\"dataframe\">\n",
       "  <thead>\n",
       "    <tr style=\"text-align: right;\">\n",
       "      <th></th>\n",
       "      <th>Client ID</th>\n",
       "      <th>Profit</th>\n",
       "      <th>Age</th>\n",
       "      <th>Gender</th>\n",
       "      <th>Monthly Income</th>\n",
       "    </tr>\n",
       "  </thead>\n",
       "  <tbody>\n",
       "    <tr>\n",
       "      <th>228</th>\n",
       "      <td>97503</td>\n",
       "      <td>386.73</td>\n",
       "      <td>39</td>\n",
       "      <td>0</td>\n",
       "      <td>3913.31</td>\n",
       "    </tr>\n",
       "    <tr>\n",
       "      <th>229</th>\n",
       "      <td>97820</td>\n",
       "      <td>539.90</td>\n",
       "      <td>42</td>\n",
       "      <td>1</td>\n",
       "      <td>5383.15</td>\n",
       "    </tr>\n",
       "    <tr>\n",
       "      <th>230</th>\n",
       "      <td>97823</td>\n",
       "      <td>642.27</td>\n",
       "      <td>39</td>\n",
       "      <td>0</td>\n",
       "      <td>5255.26</td>\n",
       "    </tr>\n",
       "    <tr>\n",
       "      <th>231</th>\n",
       "      <td>98176</td>\n",
       "      <td>373.02</td>\n",
       "      <td>42</td>\n",
       "      <td>1</td>\n",
       "      <td>5042.72</td>\n",
       "    </tr>\n",
       "    <tr>\n",
       "      <th>232</th>\n",
       "      <td>99526</td>\n",
       "      <td>584.42</td>\n",
       "      <td>32</td>\n",
       "      <td>1</td>\n",
       "      <td>5561.87</td>\n",
       "    </tr>\n",
       "  </tbody>\n",
       "</table>\n",
       "</div>"
      ],
      "text/plain": [
       "     Client ID  Profit  Age  Gender  Monthly Income\n",
       "228      97503  386.73   39       0         3913.31\n",
       "229      97820  539.90   42       1         5383.15\n",
       "230      97823  642.27   39       0         5255.26\n",
       "231      98176  373.02   42       1         5042.72\n",
       "232      99526  584.42   32       1         5561.87"
      ]
     },
     "execution_count": 9,
     "metadata": {},
     "output_type": "execute_result"
    }
   ],
   "source": [
    "cust_data['Gender'] = cust_data['Gender'].map({'M': 0, 'F': 1}) \n",
    "\n",
    "no_pres_full = pd.merge(no_pres, cust_data, how='left', on=['Client ID'])\n",
    "yes_pres_full = pd.merge(yes_pres, cust_data, how='left', on=['Client ID'])\n",
    "no_pres_full.dropna(inplace=True); yes_pres_full.dropna(inplace=True) # после джойна\n",
    "print(len(no_pres_full), len(yes_pres_full))\n",
    "yes_pres_full.tail()"
   ]
  },
  {
   "cell_type": "markdown",
   "metadata": {},
   "source": [
    "Как видно, после джойна и dropna размерности не поменялись, а значит все данные хорошо проклеились.\n",
    "### Посмотрим на распределение аттрибутов"
   ]
  },
  {
   "cell_type": "code",
   "execution_count": 27,
   "metadata": {
    "ExecuteTime": {
     "end_time": "2020-03-31T11:29:14.468206Z",
     "start_time": "2020-03-31T11:29:14.459200Z"
    }
   },
   "outputs": [],
   "source": [
    "### \"пол\" имеет распределение бернули, поэтому построим доверительный интервал для разности двух долей\n",
    "def proportions_confint_diff_ind(sample1, sample2, alpha):    \n",
    "    z = scipy.stats.norm.ppf(1 - alpha / 2.)   \n",
    "    p1 = float(sum(sample1)) / len(sample1)\n",
    "    p2 = float(sum(sample2)) / len(sample2)\n",
    "    \n",
    "    left_boundary = (p1 - p2) - z * np.sqrt(p1 * (1 - p1)/ len(sample1) + p2 * (1 - p2)/ len(sample2))\n",
    "    right_boundary = (p1 - p2) + z * np.sqrt(p1 * (1 - p1)/ len(sample1) + p2 * (1 - p2)/ len(sample2))\n",
    "    \n",
    "    return (left_boundary, right_boundary)"
   ]
  },
  {
   "cell_type": "code",
   "execution_count": 26,
   "metadata": {
    "ExecuteTime": {
     "end_time": "2020-03-30T20:07:51.466410Z",
     "start_time": "2020-03-30T20:07:50.732737Z"
    }
   },
   "outputs": [
    {
     "name": "stdout",
     "output_type": "stream",
     "text": [
      "Attr: Profit | U p-value: 0.20049028205207275 | Kr p-value: 0.4008045946453058 |\n",
      "Attr: Age | U p-value: 0.2569164025782166 | Kr p-value: 0.513629966045503 |\n",
      "Attr: Monthly Income | U p-value: 5.342260842014966e-15 | Kr p-value: 1.0658208928617267e-14 |\n",
      "Attr: Gender\n",
      "a=0.01: (-0.17730321121969814, 0.053933051784981395)\n",
      "a=0.05: (-0.14965961024707514, 0.02628945081235838)\n",
      "a=0.1: (-0.1355156331165912, 0.012145473681874464)\n"
     ]
    },
    {
     "data": {
      "image/png": "[encoded data removed]",
      "text/plain": [
       "<Figure size 864x576 with 3 Axes>"
      ]
     },
     "metadata": {
      "needs_background": "light"
     },
     "output_type": "display_data"
    }
   ],
   "source": [
    "cols = ['Profit', 'Age', 'Monthly Income']\n",
    "plt.figure(figsize=(12, 8))\n",
    "for i,j in enumerate(cols):\n",
    "    plt.subplot(2, 2, i+1)\n",
    "    sns.distplot(no_pres_full[j])\n",
    "    sns.distplot(yes_pres_full[j])\n",
    "    u1, p1 = stats.mannwhitneyu(no_pres_full[j], yes_pres_full[j])\n",
    "    u2, p2 = stats.kruskal(no_pres_full[j], yes_pres_full[j])\n",
    "    print(f'Attr: {j} | U p-value: {p1} | Kr p-value: {p2} |')\n",
    "\n",
    "print(\"Attr: Gender\")\n",
    "for a in [0.01, 0.05, 0.1]:\n",
    "    print(f\"a={a}: {proportions_confint_diff_ind(no_pres_full['Gender'], yes_pres_full['Gender'], a)}\")"
   ]
  },
  {
   "cell_type": "markdown",
   "metadata": {
    "ExecuteTime": {
     "end_time": "2020-03-28T22:47:11.810293Z",
     "start_time": "2020-03-28T22:47:11.801418Z"
    }
   },
   "source": [
    "### Выводы\n",
    "При любом уровне значимости (1%, 5%, 10%) по аттрибуту \"Monthly Income\" выборки взяты из разных распределений. <br>\n",
    "Полученые p-value для аттрибутов \"Profit\", \"Age\", \"Gender\" свидетельствуют о принадлежности к одному распределению. <br>\n",
    "\n",
    "**Вопросы к задаче:** <br>\n",
    ">1. Почему средняя прибыль по клиентам с презентацией оказалась ниже, чем средняя прибыль по клиентам без презентации.<br>\n",
    "\n",
    "**Скорее всего**, это связано с тем, что средний месячный доход выборки, которой **не показывали** презентацию, выше, чем средний месячный доход выборки, которой **показывали** презентацию. <br>\n",
    ">2. Стоит ли продолжать практику проведения презентаций? <br>\n",
    "\n",
    "Мы пока не подтвердили и не опровергли эту гипотезу. Нужно правильно поставить эксперимент. Выборки клиентов с- и без- презентаций должны\n",
    "быть из одинаковых распределений, чтобы мы могли действительно сравнить их прогнозируемую годовую прибыль и заключить значимо они отличаются или нет."
   ]
  },
  {
   "cell_type": "code",
   "execution_count": 269,
   "metadata": {
    "ExecuteTime": {
     "end_time": "2020-03-28T23:50:01.277517Z",
     "start_time": "2020-03-28T23:50:01.271111Z"
    }
   },
   "outputs": [
    {
     "name": "stdout",
     "output_type": "stream",
     "text": [
      "Средний месячный доход выборки клиентов (без презентации):  5676.9836121673 \n",
      "Средний месячный доход выборки клиентов (с презентацией):  4578.787081545064\n"
     ]
    }
   ],
   "source": [
    "print(\"Средний месячный доход выборки клиентов (без презентации): \",np.mean(no_pres_full['Monthly Income']),\n",
    "      \"\\nСредний месячный доход выборки клиентов (с презентацией): \",np.mean(yes_pres_full['Monthly Income']))"
   ]
  },
  {
   "cell_type": "code",
   "execution_count": null,
   "metadata": {},
   "outputs": [],
   "source": []
  },
  {
   "cell_type": "code",
   "execution_count": null,
   "metadata": {},
   "outputs": [],
   "source": []
  },
  {
   "cell_type": "code",
   "execution_count": null,
   "metadata": {},
   "outputs": [],
   "source": []
  },
  {
   "cell_type": "code",
   "execution_count": null,
   "metadata": {},
   "outputs": [],
   "source": []
  },
  {
   "cell_type": "code",
   "execution_count": null,
   "metadata": {},
   "outputs": [],
   "source": []
  }
 ],
 "metadata": {
  "kernelspec": {
   "display_name": "Python 3",
   "language": "python",
   "name": "python3"
  },
  "language_info": {
   "codemirror_mode": {
    "name": "ipython",
    "version": 3
   },
   "file_extension": ".py",
   "mimetype": "text/x-python",
   "name": "python",
   "nbconvert_exporter": "python",
   "pygments_lexer": "ipython3",
   "version": "3.6.8"
  },
  "toc": {
   "base_numbering": 1,
   "nav_menu": {},
   "number_sections": false,
   "sideBar": true,
   "skip_h1_title": false,
   "title_cell": "Table of Contents",
   "title_sidebar": "Contents",
   "toc_cell": false,
   "toc_position": {},
   "toc_section_display": true,
   "toc_window_display": false
  },
  "varInspector": {
   "cols": {
    "lenName": 16,
    "lenType": 16,
    "lenVar": 40
   },
   "kernels_config": {
    "python": {
     "delete_cmd_postfix": "",
     "delete_cmd_prefix": "del ",
     "library": "var_list.py",
     "varRefreshCmd": "print(var_dic_list())"
    },
    "r": {
     "delete_cmd_postfix": ") ",
     "delete_cmd_prefix": "rm(",
     "library": "var_list.r",
     "varRefreshCmd": "cat(var_dic_list()) "
    }
   },
   "types_to_exclude": [
    "module",
    "function",
    "builtin_function_or_method",
    "instance",
    "_Feature"
   ],
   "window_display": false
  }
 },
 "nbformat": 4,
 "nbformat_minor": 2
}
